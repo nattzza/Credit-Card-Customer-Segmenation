{
  "nbformat": 4,
  "nbformat_minor": 0,
  "metadata": {
    "colab": {
      "name": "ML Day 9 Credit Card Customer Segmentation.ipynb",
      "provenance": [],
      "collapsed_sections": [],
      "mount_file_id": "1KhiSICvd8oAhvjfaYSR0yEpRbsSsE2Lw",
      "authorship_tag": "ABX9TyOQX0gcS3Pv3VxrRciofW0q",
      "include_colab_link": true
    },
    "kernelspec": {
      "name": "python3",
      "display_name": "Python 3"
    },
    "language_info": {
      "name": "python"
    },
    "accelerator": "GPU"
  },
  "cells": [
    {
      "cell_type": "markdown",
      "metadata": {
        "id": "view-in-github",
        "colab_type": "text"
      },
      "source": [
        "<a href=\"https://colab.research.google.com/github/nattzza/Credit-Card-Customer-Segmenation/blob/main/ML_Day_9_Credit_Card_Customer_Segmentation.ipynb\" target=\"_parent\"><img src=\"https://colab.research.google.com/assets/colab-badge.svg\" alt=\"Open In Colab\"/></a>"
      ]
    },
    {
      "cell_type": "markdown",
      "metadata": {
        "id": "1ye2p0KiZA8N"
      },
      "source": [
        "### You are given a dataset of credit card transactions. The dataset contains 8500 customers and their activity over a 6-month period. Each transaction is characterized by 18 features described below."
      ]
    },
    {
      "cell_type": "markdown",
      "metadata": {
        "id": "D4JhWuM7ZOld"
      },
      "source": [
        "### Your task is to find the most useful customer segmentation to improve the marketing campaigns of the company."
      ]
    },
    {
      "cell_type": "markdown",
      "metadata": {
        "id": "kBy5LQqLZVWd"
      },
      "source": [
        "**The features:**\n",
        "\n",
        "customer_id : id of the credit card holder\n",
        "\n",
        "balance_account : balance amount left in the account to make purchases at the end of the 6-month period\n",
        "\n",
        "purchases_amount : amount of purchases made from account\n",
        "\n",
        "paid_advance : number of transactions made with “Cash in Advance” method\n",
        "\n",
        "full_purchases : maximum purchase amount done in full payment\n",
        "\n",
        "balance_frequency_update : how frequently the balance has been updated, score between 0 and 1 (1 = frequently - updated, 0 = not frequently updated)\n",
        "\n",
        "installments : amount of purchases done in installments\n",
        "\n",
        "purchases_frequency : how frequently the purchases are being made, score between 0 and 1 (1 = frequently - - purchased, 0 = not frequently purchased)\n",
        "\n",
        "full_purchases_frequency : how frequently purchases are happening in full payment (1 = frequently purchased, - 0 = not frequently purchased)\n",
        "\n",
        "purchases_installments_frequency : how frequently purchases in installments are being done (1 = frequently - done, 0 = not frequently done)\n",
        "\n",
        "cash_advance_frequency : how frequently the cash in advance being paid\n",
        "\n",
        "nr_cash_advances : cash in advance given by the user\n",
        "\n",
        "nr_purchases : number of purchase transactions made\n",
        "\n",
        "credit_limit : limit of credit card for user\n",
        "\n",
        "fixed_rate_period : duration of fixed interest rate of credit card service for user (in months)\n",
        "\n",
        "payments : amount of payment done by user\n",
        "\n",
        "min_payments : minimum amount of payments made by user\n",
        "\n",
        "full_payment_prc : percent of full payment paid by user"
      ]
    },
    {
      "cell_type": "markdown",
      "metadata": {
        "id": "YbxRAOo0Zr8d"
      },
      "source": [
        "## 1. Getting and Loading the Dataset"
      ]
    },
    {
      "cell_type": "code",
      "metadata": {
        "colab": {
          "base_uri": "https://localhost:8080/"
        },
        "id": "yVa1XPiuZX7E",
        "outputId": "eb36a612-7d76-48d0-aff6-cb6dbc9605ec"
      },
      "source": [
        "from google.colab import drive\n",
        "drive.mount('/content/drive')"
      ],
      "execution_count": 1,
      "outputs": [
        {
          "output_type": "stream",
          "name": "stdout",
          "text": [
            "Drive already mounted at /content/drive; to attempt to forcibly remount, call drive.mount(\"/content/drive\", force_remount=True).\n"
          ]
        }
      ]
    },
    {
      "cell_type": "code",
      "metadata": {
        "id": "_nGk4rwVaBKU"
      },
      "source": [
        "import pandas as pd\n",
        "import numpy as np\n",
        "import matplotlib.pyplot as plt\n",
        "import seaborn as sns\n",
        "import matplotlib\n",
        "import warnings\n",
        "warnings.filterwarnings('ignore')\n",
        "\n",
        "%matplotlib inline"
      ],
      "execution_count": 2,
      "outputs": []
    },
    {
      "cell_type": "markdown",
      "metadata": {
        "id": "RCO4q4ZzZ0nz"
      },
      "source": [
        "## 2. Exploratory Data Analysis"
      ]
    },
    {
      "cell_type": "code",
      "metadata": {
        "colab": {
          "base_uri": "https://localhost:8080/"
        },
        "id": "pYXXi2dZZ16F",
        "outputId": "faf0e866-240b-4720-b1ec-fc067967af20"
      },
      "source": [
        "df = pd.read_csv(\"./card_transactions.csv\")\n",
        "df.info()"
      ],
      "execution_count": 3,
      "outputs": [
        {
          "output_type": "stream",
          "name": "stdout",
          "text": [
            "<class 'pandas.core.frame.DataFrame'>\n",
            "RangeIndex: 8500 entries, 0 to 8499\n",
            "Data columns (total 18 columns):\n",
            " #   Column                            Non-Null Count  Dtype  \n",
            "---  ------                            --------------  -----  \n",
            " 0   customer_id                       8500 non-null   object \n",
            " 1   balance_account                   8500 non-null   float64\n",
            " 2   purchases_amount                  8500 non-null   float64\n",
            " 3   paid_advance                      8500 non-null   float64\n",
            " 4   full_purchases                    8500 non-null   float64\n",
            " 5   balance_frequency_update          8500 non-null   float64\n",
            " 6   installments                      8500 non-null   float64\n",
            " 7   purchases_frequency               8500 non-null   float64\n",
            " 8   full_purchases_frequency          8500 non-null   float64\n",
            " 9   purchases_installments_frequency  8500 non-null   float64\n",
            " 10  cash_advance_frequency            8500 non-null   float64\n",
            " 11  nr_cash_advances                  8500 non-null   int64  \n",
            " 12  nr_purchases                      8500 non-null   int64  \n",
            " 13  credit_limit                      8499 non-null   float64\n",
            " 14  fixed_rate_period                 8500 non-null   int64  \n",
            " 15  payments                          8500 non-null   float64\n",
            " 16  min_payments                      8202 non-null   float64\n",
            " 17  full_payment_prc                  8500 non-null   float64\n",
            "dtypes: float64(14), int64(3), object(1)\n",
            "memory usage: 1.2+ MB\n"
          ]
        }
      ]
    },
    {
      "cell_type": "code",
      "metadata": {
        "colab": {
          "base_uri": "https://localhost:8080/",
          "height": 224
        },
        "id": "AsHAzIDhaK57",
        "outputId": "95659330-eb44-4d63-90d6-b188178ad663"
      },
      "source": [
        "df.head()"
      ],
      "execution_count": 4,
      "outputs": [
        {
          "output_type": "execute_result",
          "data": {
            "text/html": [
              "<div>\n",
              "<style scoped>\n",
              "    .dataframe tbody tr th:only-of-type {\n",
              "        vertical-align: middle;\n",
              "    }\n",
              "\n",
              "    .dataframe tbody tr th {\n",
              "        vertical-align: top;\n",
              "    }\n",
              "\n",
              "    .dataframe thead th {\n",
              "        text-align: right;\n",
              "    }\n",
              "</style>\n",
              "<table border=\"1\" class=\"dataframe\">\n",
              "  <thead>\n",
              "    <tr style=\"text-align: right;\">\n",
              "      <th></th>\n",
              "      <th>customer_id</th>\n",
              "      <th>balance_account</th>\n",
              "      <th>purchases_amount</th>\n",
              "      <th>paid_advance</th>\n",
              "      <th>full_purchases</th>\n",
              "      <th>balance_frequency_update</th>\n",
              "      <th>installments</th>\n",
              "      <th>purchases_frequency</th>\n",
              "      <th>full_purchases_frequency</th>\n",
              "      <th>purchases_installments_frequency</th>\n",
              "      <th>cash_advance_frequency</th>\n",
              "      <th>nr_cash_advances</th>\n",
              "      <th>nr_purchases</th>\n",
              "      <th>credit_limit</th>\n",
              "      <th>fixed_rate_period</th>\n",
              "      <th>payments</th>\n",
              "      <th>min_payments</th>\n",
              "      <th>full_payment_prc</th>\n",
              "    </tr>\n",
              "  </thead>\n",
              "  <tbody>\n",
              "    <tr>\n",
              "      <th>0</th>\n",
              "      <td>tGEg8fT2eCgVxdwS</td>\n",
              "      <td>9.298409</td>\n",
              "      <td>107.60</td>\n",
              "      <td>0.000000</td>\n",
              "      <td>0.00</td>\n",
              "      <td>0.909091</td>\n",
              "      <td>107.6</td>\n",
              "      <td>0.909091</td>\n",
              "      <td>0.000000</td>\n",
              "      <td>0.818182</td>\n",
              "      <td>0.000000</td>\n",
              "      <td>0</td>\n",
              "      <td>10</td>\n",
              "      <td>1000.0</td>\n",
              "      <td>11</td>\n",
              "      <td>89.868853</td>\n",
              "      <td>89.711672</td>\n",
              "      <td>0.428571</td>\n",
              "    </tr>\n",
              "    <tr>\n",
              "      <th>1</th>\n",
              "      <td>stEDu20sSKOXomjg</td>\n",
              "      <td>52.666422</td>\n",
              "      <td>150.30</td>\n",
              "      <td>0.000000</td>\n",
              "      <td>0.00</td>\n",
              "      <td>1.000000</td>\n",
              "      <td>150.3</td>\n",
              "      <td>1.000000</td>\n",
              "      <td>0.000000</td>\n",
              "      <td>0.833333</td>\n",
              "      <td>0.000000</td>\n",
              "      <td>0</td>\n",
              "      <td>6</td>\n",
              "      <td>1000.0</td>\n",
              "      <td>6</td>\n",
              "      <td>54.722514</td>\n",
              "      <td>82.955180</td>\n",
              "      <td>0.000000</td>\n",
              "    </tr>\n",
              "    <tr>\n",
              "      <th>2</th>\n",
              "      <td>CEB2blrN3b88GsRe</td>\n",
              "      <td>1360.795674</td>\n",
              "      <td>0.00</td>\n",
              "      <td>462.861443</td>\n",
              "      <td>0.00</td>\n",
              "      <td>1.000000</td>\n",
              "      <td>0.0</td>\n",
              "      <td>0.000000</td>\n",
              "      <td>0.000000</td>\n",
              "      <td>0.000000</td>\n",
              "      <td>0.272727</td>\n",
              "      <td>6</td>\n",
              "      <td>0</td>\n",
              "      <td>1500.0</td>\n",
              "      <td>11</td>\n",
              "      <td>303.031979</td>\n",
              "      <td>443.781316</td>\n",
              "      <td>0.000000</td>\n",
              "    </tr>\n",
              "    <tr>\n",
              "      <th>3</th>\n",
              "      <td>0N0eBl8ySaZThxKE</td>\n",
              "      <td>2021.641161</td>\n",
              "      <td>363.18</td>\n",
              "      <td>0.000000</td>\n",
              "      <td>363.18</td>\n",
              "      <td>1.000000</td>\n",
              "      <td>0.0</td>\n",
              "      <td>1.000000</td>\n",
              "      <td>1.000000</td>\n",
              "      <td>0.000000</td>\n",
              "      <td>0.000000</td>\n",
              "      <td>0</td>\n",
              "      <td>13</td>\n",
              "      <td>2000.0</td>\n",
              "      <td>12</td>\n",
              "      <td>704.240770</td>\n",
              "      <td>795.859808</td>\n",
              "      <td>0.000000</td>\n",
              "    </tr>\n",
              "    <tr>\n",
              "      <th>4</th>\n",
              "      <td>6NLauoHUwtwOv4Wy</td>\n",
              "      <td>22.322374</td>\n",
              "      <td>95.00</td>\n",
              "      <td>1162.045833</td>\n",
              "      <td>95.00</td>\n",
              "      <td>0.363636</td>\n",
              "      <td>0.0</td>\n",
              "      <td>0.083333</td>\n",
              "      <td>0.083333</td>\n",
              "      <td>0.000000</td>\n",
              "      <td>0.166667</td>\n",
              "      <td>3</td>\n",
              "      <td>1</td>\n",
              "      <td>2500.0</td>\n",
              "      <td>12</td>\n",
              "      <td>4094.261427</td>\n",
              "      <td>40.142262</td>\n",
              "      <td>0.000000</td>\n",
              "    </tr>\n",
              "  </tbody>\n",
              "</table>\n",
              "</div>"
            ],
            "text/plain": [
              "        customer_id  balance_account  ...  min_payments  full_payment_prc\n",
              "0  tGEg8fT2eCgVxdwS         9.298409  ...     89.711672          0.428571\n",
              "1  stEDu20sSKOXomjg        52.666422  ...     82.955180          0.000000\n",
              "2  CEB2blrN3b88GsRe      1360.795674  ...    443.781316          0.000000\n",
              "3  0N0eBl8ySaZThxKE      2021.641161  ...    795.859808          0.000000\n",
              "4  6NLauoHUwtwOv4Wy        22.322374  ...     40.142262          0.000000\n",
              "\n",
              "[5 rows x 18 columns]"
            ]
          },
          "metadata": {},
          "execution_count": 4
        }
      ]
    },
    {
      "cell_type": "code",
      "metadata": {
        "id": "3mtSNKcQaVjk"
      },
      "source": [
        "# df = df.drop(columns=\"customer_id\")\n"
      ],
      "execution_count": 5,
      "outputs": []
    },
    {
      "cell_type": "code",
      "metadata": {
        "colab": {
          "base_uri": "https://localhost:8080/",
          "height": 224
        },
        "id": "pd8UNKMubJT1",
        "outputId": "6bbfbee6-c038-4a09-86e2-b72c15c45cdb"
      },
      "source": [
        "df.head()"
      ],
      "execution_count": 6,
      "outputs": [
        {
          "output_type": "execute_result",
          "data": {
            "text/html": [
              "<div>\n",
              "<style scoped>\n",
              "    .dataframe tbody tr th:only-of-type {\n",
              "        vertical-align: middle;\n",
              "    }\n",
              "\n",
              "    .dataframe tbody tr th {\n",
              "        vertical-align: top;\n",
              "    }\n",
              "\n",
              "    .dataframe thead th {\n",
              "        text-align: right;\n",
              "    }\n",
              "</style>\n",
              "<table border=\"1\" class=\"dataframe\">\n",
              "  <thead>\n",
              "    <tr style=\"text-align: right;\">\n",
              "      <th></th>\n",
              "      <th>customer_id</th>\n",
              "      <th>balance_account</th>\n",
              "      <th>purchases_amount</th>\n",
              "      <th>paid_advance</th>\n",
              "      <th>full_purchases</th>\n",
              "      <th>balance_frequency_update</th>\n",
              "      <th>installments</th>\n",
              "      <th>purchases_frequency</th>\n",
              "      <th>full_purchases_frequency</th>\n",
              "      <th>purchases_installments_frequency</th>\n",
              "      <th>cash_advance_frequency</th>\n",
              "      <th>nr_cash_advances</th>\n",
              "      <th>nr_purchases</th>\n",
              "      <th>credit_limit</th>\n",
              "      <th>fixed_rate_period</th>\n",
              "      <th>payments</th>\n",
              "      <th>min_payments</th>\n",
              "      <th>full_payment_prc</th>\n",
              "    </tr>\n",
              "  </thead>\n",
              "  <tbody>\n",
              "    <tr>\n",
              "      <th>0</th>\n",
              "      <td>tGEg8fT2eCgVxdwS</td>\n",
              "      <td>9.298409</td>\n",
              "      <td>107.60</td>\n",
              "      <td>0.000000</td>\n",
              "      <td>0.00</td>\n",
              "      <td>0.909091</td>\n",
              "      <td>107.6</td>\n",
              "      <td>0.909091</td>\n",
              "      <td>0.000000</td>\n",
              "      <td>0.818182</td>\n",
              "      <td>0.000000</td>\n",
              "      <td>0</td>\n",
              "      <td>10</td>\n",
              "      <td>1000.0</td>\n",
              "      <td>11</td>\n",
              "      <td>89.868853</td>\n",
              "      <td>89.711672</td>\n",
              "      <td>0.428571</td>\n",
              "    </tr>\n",
              "    <tr>\n",
              "      <th>1</th>\n",
              "      <td>stEDu20sSKOXomjg</td>\n",
              "      <td>52.666422</td>\n",
              "      <td>150.30</td>\n",
              "      <td>0.000000</td>\n",
              "      <td>0.00</td>\n",
              "      <td>1.000000</td>\n",
              "      <td>150.3</td>\n",
              "      <td>1.000000</td>\n",
              "      <td>0.000000</td>\n",
              "      <td>0.833333</td>\n",
              "      <td>0.000000</td>\n",
              "      <td>0</td>\n",
              "      <td>6</td>\n",
              "      <td>1000.0</td>\n",
              "      <td>6</td>\n",
              "      <td>54.722514</td>\n",
              "      <td>82.955180</td>\n",
              "      <td>0.000000</td>\n",
              "    </tr>\n",
              "    <tr>\n",
              "      <th>2</th>\n",
              "      <td>CEB2blrN3b88GsRe</td>\n",
              "      <td>1360.795674</td>\n",
              "      <td>0.00</td>\n",
              "      <td>462.861443</td>\n",
              "      <td>0.00</td>\n",
              "      <td>1.000000</td>\n",
              "      <td>0.0</td>\n",
              "      <td>0.000000</td>\n",
              "      <td>0.000000</td>\n",
              "      <td>0.000000</td>\n",
              "      <td>0.272727</td>\n",
              "      <td>6</td>\n",
              "      <td>0</td>\n",
              "      <td>1500.0</td>\n",
              "      <td>11</td>\n",
              "      <td>303.031979</td>\n",
              "      <td>443.781316</td>\n",
              "      <td>0.000000</td>\n",
              "    </tr>\n",
              "    <tr>\n",
              "      <th>3</th>\n",
              "      <td>0N0eBl8ySaZThxKE</td>\n",
              "      <td>2021.641161</td>\n",
              "      <td>363.18</td>\n",
              "      <td>0.000000</td>\n",
              "      <td>363.18</td>\n",
              "      <td>1.000000</td>\n",
              "      <td>0.0</td>\n",
              "      <td>1.000000</td>\n",
              "      <td>1.000000</td>\n",
              "      <td>0.000000</td>\n",
              "      <td>0.000000</td>\n",
              "      <td>0</td>\n",
              "      <td>13</td>\n",
              "      <td>2000.0</td>\n",
              "      <td>12</td>\n",
              "      <td>704.240770</td>\n",
              "      <td>795.859808</td>\n",
              "      <td>0.000000</td>\n",
              "    </tr>\n",
              "    <tr>\n",
              "      <th>4</th>\n",
              "      <td>6NLauoHUwtwOv4Wy</td>\n",
              "      <td>22.322374</td>\n",
              "      <td>95.00</td>\n",
              "      <td>1162.045833</td>\n",
              "      <td>95.00</td>\n",
              "      <td>0.363636</td>\n",
              "      <td>0.0</td>\n",
              "      <td>0.083333</td>\n",
              "      <td>0.083333</td>\n",
              "      <td>0.000000</td>\n",
              "      <td>0.166667</td>\n",
              "      <td>3</td>\n",
              "      <td>1</td>\n",
              "      <td>2500.0</td>\n",
              "      <td>12</td>\n",
              "      <td>4094.261427</td>\n",
              "      <td>40.142262</td>\n",
              "      <td>0.000000</td>\n",
              "    </tr>\n",
              "  </tbody>\n",
              "</table>\n",
              "</div>"
            ],
            "text/plain": [
              "        customer_id  balance_account  ...  min_payments  full_payment_prc\n",
              "0  tGEg8fT2eCgVxdwS         9.298409  ...     89.711672          0.428571\n",
              "1  stEDu20sSKOXomjg        52.666422  ...     82.955180          0.000000\n",
              "2  CEB2blrN3b88GsRe      1360.795674  ...    443.781316          0.000000\n",
              "3  0N0eBl8ySaZThxKE      2021.641161  ...    795.859808          0.000000\n",
              "4  6NLauoHUwtwOv4Wy        22.322374  ...     40.142262          0.000000\n",
              "\n",
              "[5 rows x 18 columns]"
            ]
          },
          "metadata": {},
          "execution_count": 6
        }
      ]
    },
    {
      "cell_type": "code",
      "metadata": {
        "id": "o9YA6YqreVc-"
      },
      "source": [
        "# If the power of debt payments are exluced in this analyses (if we care only to activate/promote spending of customers), the below columns could be deleted. \n",
        "\n",
        "df = df.drop(columns=\"full_payment_prc\")        # percent of full payment paid by user\n",
        "df = df.drop(columns=\"min_payments\")            # minimum amount of payments made by user\n",
        "df = df.drop(columns=\"payments\")                 # amount of payment done by user\n",
        "df = df.drop(columns=\"fixed_rate_period\")       # duration of fixed interest rate of credit card service for user (in months)\n",
        "df = df.drop(columns=\"nr_cash_advances\")        # cash in advance given by the user\n",
        "df = df.drop(columns=\"cash_advance_frequency\")  #  how frequently the cash in advance being paid"
      ],
      "execution_count": 7,
      "outputs": []
    },
    {
      "cell_type": "code",
      "metadata": {
        "colab": {
          "base_uri": "https://localhost:8080/",
          "height": 224
        },
        "id": "EUoW5kCCgHFG",
        "outputId": "d512895d-bd8b-4a38-fa26-293575058f72"
      },
      "source": [
        "df.head()"
      ],
      "execution_count": 8,
      "outputs": [
        {
          "output_type": "execute_result",
          "data": {
            "text/html": [
              "<div>\n",
              "<style scoped>\n",
              "    .dataframe tbody tr th:only-of-type {\n",
              "        vertical-align: middle;\n",
              "    }\n",
              "\n",
              "    .dataframe tbody tr th {\n",
              "        vertical-align: top;\n",
              "    }\n",
              "\n",
              "    .dataframe thead th {\n",
              "        text-align: right;\n",
              "    }\n",
              "</style>\n",
              "<table border=\"1\" class=\"dataframe\">\n",
              "  <thead>\n",
              "    <tr style=\"text-align: right;\">\n",
              "      <th></th>\n",
              "      <th>customer_id</th>\n",
              "      <th>balance_account</th>\n",
              "      <th>purchases_amount</th>\n",
              "      <th>paid_advance</th>\n",
              "      <th>full_purchases</th>\n",
              "      <th>balance_frequency_update</th>\n",
              "      <th>installments</th>\n",
              "      <th>purchases_frequency</th>\n",
              "      <th>full_purchases_frequency</th>\n",
              "      <th>purchases_installments_frequency</th>\n",
              "      <th>nr_purchases</th>\n",
              "      <th>credit_limit</th>\n",
              "    </tr>\n",
              "  </thead>\n",
              "  <tbody>\n",
              "    <tr>\n",
              "      <th>0</th>\n",
              "      <td>tGEg8fT2eCgVxdwS</td>\n",
              "      <td>9.298409</td>\n",
              "      <td>107.60</td>\n",
              "      <td>0.000000</td>\n",
              "      <td>0.00</td>\n",
              "      <td>0.909091</td>\n",
              "      <td>107.6</td>\n",
              "      <td>0.909091</td>\n",
              "      <td>0.000000</td>\n",
              "      <td>0.818182</td>\n",
              "      <td>10</td>\n",
              "      <td>1000.0</td>\n",
              "    </tr>\n",
              "    <tr>\n",
              "      <th>1</th>\n",
              "      <td>stEDu20sSKOXomjg</td>\n",
              "      <td>52.666422</td>\n",
              "      <td>150.30</td>\n",
              "      <td>0.000000</td>\n",
              "      <td>0.00</td>\n",
              "      <td>1.000000</td>\n",
              "      <td>150.3</td>\n",
              "      <td>1.000000</td>\n",
              "      <td>0.000000</td>\n",
              "      <td>0.833333</td>\n",
              "      <td>6</td>\n",
              "      <td>1000.0</td>\n",
              "    </tr>\n",
              "    <tr>\n",
              "      <th>2</th>\n",
              "      <td>CEB2blrN3b88GsRe</td>\n",
              "      <td>1360.795674</td>\n",
              "      <td>0.00</td>\n",
              "      <td>462.861443</td>\n",
              "      <td>0.00</td>\n",
              "      <td>1.000000</td>\n",
              "      <td>0.0</td>\n",
              "      <td>0.000000</td>\n",
              "      <td>0.000000</td>\n",
              "      <td>0.000000</td>\n",
              "      <td>0</td>\n",
              "      <td>1500.0</td>\n",
              "    </tr>\n",
              "    <tr>\n",
              "      <th>3</th>\n",
              "      <td>0N0eBl8ySaZThxKE</td>\n",
              "      <td>2021.641161</td>\n",
              "      <td>363.18</td>\n",
              "      <td>0.000000</td>\n",
              "      <td>363.18</td>\n",
              "      <td>1.000000</td>\n",
              "      <td>0.0</td>\n",
              "      <td>1.000000</td>\n",
              "      <td>1.000000</td>\n",
              "      <td>0.000000</td>\n",
              "      <td>13</td>\n",
              "      <td>2000.0</td>\n",
              "    </tr>\n",
              "    <tr>\n",
              "      <th>4</th>\n",
              "      <td>6NLauoHUwtwOv4Wy</td>\n",
              "      <td>22.322374</td>\n",
              "      <td>95.00</td>\n",
              "      <td>1162.045833</td>\n",
              "      <td>95.00</td>\n",
              "      <td>0.363636</td>\n",
              "      <td>0.0</td>\n",
              "      <td>0.083333</td>\n",
              "      <td>0.083333</td>\n",
              "      <td>0.000000</td>\n",
              "      <td>1</td>\n",
              "      <td>2500.0</td>\n",
              "    </tr>\n",
              "  </tbody>\n",
              "</table>\n",
              "</div>"
            ],
            "text/plain": [
              "        customer_id  balance_account  ...  nr_purchases  credit_limit\n",
              "0  tGEg8fT2eCgVxdwS         9.298409  ...            10        1000.0\n",
              "1  stEDu20sSKOXomjg        52.666422  ...             6        1000.0\n",
              "2  CEB2blrN3b88GsRe      1360.795674  ...             0        1500.0\n",
              "3  0N0eBl8ySaZThxKE      2021.641161  ...            13        2000.0\n",
              "4  6NLauoHUwtwOv4Wy        22.322374  ...             1        2500.0\n",
              "\n",
              "[5 rows x 12 columns]"
            ]
          },
          "metadata": {},
          "execution_count": 8
        }
      ]
    },
    {
      "cell_type": "markdown",
      "metadata": {
        "id": "CRZO0x4eg9fH"
      },
      "source": [
        "Visualize Sales vs. Order Date"
      ]
    },
    {
      "cell_type": "code",
      "metadata": {
        "colab": {
          "base_uri": "https://localhost:8080/",
          "height": 389
        },
        "id": "fJ9Fr9mbg8Lx",
        "outputId": "33e752b1-43ad-47f0-f2e3-495269c256c8"
      },
      "source": [
        "fig, ax = plt.subplots(1, 1, figsize=(12, 6))\n",
        "sns.lineplot(x=df['customer_id'], y=df['purchases_amount']);"
      ],
      "execution_count": 9,
      "outputs": [
        {
          "output_type": "display_data",
          "data": {
            "image/png": "[encoded data removed]",
            "text/plain": [
              "<Figure size 864x432 with 1 Axes>"
            ]
          },
          "metadata": {
            "needs_background": "light"
          }
        }
      ]
    },
    {
      "cell_type": "code",
      "metadata": {
        "colab": {
          "base_uri": "https://localhost:8080/"
        },
        "id": "mlL9ZlYEgH0N",
        "outputId": "52968055-7ab2-40c0-cb74-abc15bac91ac"
      },
      "source": [
        "df['purchases_amount'].describe()"
      ],
      "execution_count": 10,
      "outputs": [
        {
          "output_type": "execute_result",
          "data": {
            "text/plain": [
              "count     8500.000000\n",
              "mean       999.561312\n",
              "std       2154.189460\n",
              "min          0.000000\n",
              "25%         39.000000\n",
              "50%        360.000000\n",
              "75%       1105.897500\n",
              "max      49039.570000\n",
              "Name: purchases_amount, dtype: float64"
            ]
          },
          "metadata": {},
          "execution_count": 10
        }
      ]
    }
  ]
}